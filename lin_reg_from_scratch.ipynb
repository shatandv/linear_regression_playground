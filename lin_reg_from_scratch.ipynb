{
 "cells": [
  {
   "cell_type": "markdown",
   "metadata": {},
   "source": [
    "# Linear Regression Algorithm from Scratch - Gradient Descent method"
   ]
  },
  {
   "cell_type": "code",
   "execution_count": 1,
   "metadata": {},
   "outputs": [],
   "source": [
    "import numpy as np\n",
    "import matplotlib.pyplot as plt\n",
    "%matplotlib inline"
   ]
  },
  {
   "cell_type": "markdown",
   "metadata": {},
   "source": [
    "Regression function: $ \\hat{y} = w x_i + b $."
   ]
  },
  {
   "cell_type": "markdown",
   "metadata": {},
   "source": [
    "Loss function: $ MSE = J(w, b) = \\frac{1}{n} \\sum_{i = 1}^{n} (y_i - (w x_i + b))^2 $"
   ]
  },
  {
   "cell_type": "markdown",
   "metadata": {},
   "source": [
    "Gradient: $ J'(w, b)\n",
    "= \\begin{bmatrix}\n",
    "    \\frac{d J}{d w} \\\\\n",
    "    \\frac{d J}{d b} \\\\\n",
    "\\end{bmatrix}\n",
    "= \\begin{bmatrix}\n",
    "    \\frac{1}{n} \\sum_{i=1}^{n} -2 x_i (y_i - (w x_i + b)) \\\\\n",
    "    \\frac{1}{n} \\sum_{i=1}^{n} -2 (y_i - (w x_i + b)) \\\\\n",
    "\\end{bmatrix} $."
   ]
  },
  {
   "cell_type": "code",
   "execution_count": 2,
   "metadata": {},
   "outputs": [],
   "source": [
    "def mse(y_pred, y_true):\n",
    "    return np.sum((y_pred - y_true)**2)"
   ]
  },
  {
   "cell_type": "code",
   "execution_count": 3,
   "metadata": {},
   "outputs": [],
   "source": [
    "class LinearRegression:\n",
    "    def __init__(self, n_iters, learning_rate = 0.0001):\n",
    "        self.n_iters = n_iters\n",
    "        self.learning_rate = learning_rate\n",
    "        \n",
    "        self.weights = None\n",
    "        self.bias = None\n",
    "        \n",
    "    \n",
    "    def fit(self, X, y):\n",
    "        n_samples, n_feats = X.shape\n",
    "        \n",
    "        self.weights = np.zeros(n_feats)\n",
    "        self.bias = 0\n",
    "        \n",
    "        for _ in range(self.n_iters):\n",
    "            y_pred = X.dot(self.weights) + self.bias\n",
    "    \n",
    "            dw = (1 / n_samples) * (X.T.dot(y_pred - y))\n",
    "            db = (1 / n_samples) * np.sum(y_pred - y)\n",
    "\n",
    "            self.weights -= self.learning_rate * dw\n",
    "            self.bias -= self.learning_rate * db\n",
    "    \n",
    "    def predict(self, X):\n",
    "        return X.dot(self.weights) + self.bias"
   ]
  },
  {
   "cell_type": "code",
   "execution_count": 4,
   "metadata": {},
   "outputs": [
    {
     "name": "stdout",
     "output_type": "stream",
     "text": [
      "[5 8 1 7 7] 0\n"
     ]
    }
   ],
   "source": [
    "n_features = 5\n",
    "n_samples = 1000\n",
    "\n",
    "X = np.random.randint(-30, 30, (n_samples, n_features))\n",
    "\n",
    "real_coeffs = np.random.randint(-6, 10, n_features)\n",
    "real_bias = np.random.randint(-10, 10)\n",
    "print(real_coeffs, real_bias)\n",
    "\n",
    "y = X.dot(real_coeffs) + real_bias + np.random.normal(loc=5.0, scale=10.0, size=n_samples)"
   ]
  },
  {
   "cell_type": "code",
   "execution_count": 5,
   "metadata": {},
   "outputs": [],
   "source": [
    "lr = LinearRegression(n_iters=10000, learning_rate=0.0002)\n",
    "lr.fit(X, y)"
   ]
  },
  {
   "cell_type": "code",
   "execution_count": 6,
   "metadata": {},
   "outputs": [
    {
     "data": {
      "text/plain": [
       "(array([4.99603679, 7.99243984, 1.00590159, 7.00463369, 6.98721279]),\n",
       " 4.351487001859601)"
      ]
     },
     "execution_count": 6,
     "metadata": {},
     "output_type": "execute_result"
    }
   ],
   "source": [
    "lr.weights, lr.bias"
   ]
  },
  {
   "cell_type": "code",
   "execution_count": 7,
   "metadata": {},
   "outputs": [
    {
     "data": {
      "text/plain": [
       "100491.72028657171"
      ]
     },
     "execution_count": 7,
     "metadata": {},
     "output_type": "execute_result"
    }
   ],
   "source": [
    "y_pred = lr.predict(X)\n",
    "mse(y_pred, y)"
   ]
  },
  {
   "cell_type": "code",
   "execution_count": 8,
   "metadata": {},
   "outputs": [
    {
     "data": {
      "text/plain": [
       "(array([4.99603679, 7.99243984, 1.00590159, 7.00463369, 6.98721279]),\n",
       " array([5, 8, 1, 7, 7]))"
      ]
     },
     "execution_count": 8,
     "metadata": {},
     "output_type": "execute_result"
    }
   ],
   "source": [
    "lr.weights, real_coeffs"
   ]
  }
 ],
 "metadata": {
  "kernelspec": {
   "display_name": "Python 3",
   "language": "python",
   "name": "python3"
  },
  "language_info": {
   "codemirror_mode": {
    "name": "ipython",
    "version": 3
   },
   "file_extension": ".py",
   "mimetype": "text/x-python",
   "name": "python",
   "nbconvert_exporter": "python",
   "pygments_lexer": "ipython3",
   "version": "3.8.6"
  }
 },
 "nbformat": 4,
 "nbformat_minor": 4
}
